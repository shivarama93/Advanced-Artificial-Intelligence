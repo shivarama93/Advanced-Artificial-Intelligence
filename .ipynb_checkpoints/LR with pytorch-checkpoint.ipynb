{
 "cells": [
  {
   "cell_type": "code",
   "execution_count": 2,
   "id": "c39d2f49",
   "metadata": {},
   "outputs": [],
   "source": [
    "import torch\n",
    "import torchvision\n",
    "from torch.utils.data import DataLoader\n",
    "from torch.utils.data import Dataset\n",
    "import matplotlib.pyplot as plt"
   ]
  },
  {
   "cell_type": "code",
   "execution_count": 5,
   "id": "c2e5e097",
   "metadata": {},
   "outputs": [
    {
     "name": "stdout",
     "output_type": "stream",
     "text": [
      "Note: you may need to restart the kernel to use updated packages.\n"
     ]
    },
    {
     "name": "stderr",
     "output_type": "stream",
     "text": [
      "ERROR: Could not find a version that satisfies the requirement freetype==2.10.4\n",
      "ERROR: No matching distribution found for freetype==2.10.4\n"
     ]
    }
   ],
   "source": [
    "pip install freetype==2.10.4"
   ]
  },
  {
   "cell_type": "code",
   "execution_count": 2,
   "id": "8f6b3e05",
   "metadata": {},
   "outputs": [],
   "source": [
    "# x = torch.tensor([[2600.0], [3000.0], [3200.0], [3600.0], [4000.0]], dtype=torch.float32)\n",
    "# y = torch.tensor([[550000.0], [565000.0], [610000.0], [680000.0], [725000.0]], dtype=torch.float32)"
   ]
  },
  {
   "cell_type": "code",
   "execution_count": 3,
   "id": "48417871",
   "metadata": {},
   "outputs": [],
   "source": [
    "x = list(range(0, 25))\n",
    "x = torch.tensor(x, dtype=torch.float32)\n",
    "y = 2 * x + 3\n",
    "x = x.unsqueeze(0).view(-1, 1)\n",
    "y = y.unsqueeze(0).view(-1, 1)"
   ]
  },
  {
   "cell_type": "code",
   "execution_count": 4,
   "id": "00c76551",
   "metadata": {},
   "outputs": [],
   "source": [
    "class CustomDataset(Dataset):\n",
    "    def __init__(self):\n",
    "       \n",
    "        self.x = x\n",
    "        self.y = y\n",
    "       \n",
    "    def __len__(self):\n",
    "        return len(self.x)\n",
    "\n",
    "    def __getitem__(self, idx):\n",
    "        \n",
    "        return self.x[idx], self.y[idx]"
   ]
  },
  {
   "cell_type": "code",
   "execution_count": 5,
   "id": "44a28f3f",
   "metadata": {},
   "outputs": [],
   "source": [
    "customdataset = CustomDataset()\n",
    "dataloader_custom = DataLoader(customdataset, batch_size=1, shuffle=True, num_workers=0, drop_last=False, pin_memory=True)"
   ]
  },
  {
   "cell_type": "code",
   "execution_count": 6,
   "id": "052f9cd6",
   "metadata": {},
   "outputs": [],
   "source": [
    "class LinearReg(torch.nn.Module):\n",
    "    def __init__(self):\n",
    "        super(LinearReg, self).__init__()\n",
    "        self.layer = torch.nn.Linear(1,1)\n",
    "        \n",
    "    def forward(self, x):\n",
    "        return self.layer(x)"
   ]
  },
  {
   "cell_type": "code",
   "execution_count": 7,
   "id": "37b31a52",
   "metadata": {},
   "outputs": [],
   "source": [
    "linear_reg = LinearReg()"
   ]
  },
  {
   "cell_type": "code",
   "execution_count": 8,
   "id": "6816a349",
   "metadata": {},
   "outputs": [],
   "source": [
    "optimizer = torch.optim.Adam(linear_reg.parameters(), lr=0.008, betas=(0.9, 0.99))"
   ]
  },
  {
   "cell_type": "code",
   "execution_count": 9,
   "id": "91cfc205",
   "metadata": {},
   "outputs": [],
   "source": [
    "loss_function = torch.nn.MSELoss()"
   ]
  },
  {
   "cell_type": "code",
   "execution_count": 10,
   "id": "002d94f5",
   "metadata": {},
   "outputs": [
    {
     "name": "stdout",
     "output_type": "stream",
     "text": [
      "Loss: 2989.55908203125\n",
      "Loss: 0.0001857225433923304\n",
      "Loss: 0.0\n",
      "Loss: 0.0\n",
      "Loss: 0.0\n",
      "Loss: 0.0\n",
      "Loss: 0.0\n",
      "Loss: 0.0\n",
      "Loss: 0.0\n",
      "Loss: 0.0\n"
     ]
    }
   ],
   "source": [
    "for epoch in range(1000):\n",
    "    for idx, (x1, y1) in enumerate(dataloader_custom):\n",
    "        optimizer.zero_grad(set_to_none=True)\n",
    "        predicted = linear_reg(x1)\n",
    "        lossval = loss_function(predicted, y1)\n",
    "        lossval.backward(retain_graph=True)\n",
    "        optimizer.step()\n",
    "\n",
    "    if epoch % 100 == 0:\n",
    "        print(\"Loss: {}\".format(lossval.item()))\n",
    "\n",
    "linear_reg.eval()\n",
    "# x = torch.tensor([[2600.0], [3000.0], [3200.0], [3600.0], [4000.0]], dtype=torch.float32)\n",
    "# y = torch.tensor([[550000.0], [565000.0], [610000.0], [680000.0], [725000.0]], dtype=torch.float32)\n",
    "pred = linear_reg(x)\n",
    "\n",
    "\n",
    "\n",
    "    "
   ]
  },
  {
   "cell_type": "code",
   "execution_count": null,
   "id": "7ff43b77",
   "metadata": {},
   "outputs": [],
   "source": [
    "plt.plot(x.detach().numpy(), y.detach().numpy(), '+', color='red')\n",
    "plt.plot(x.detach().numpy(), pred.detach().numpy())"
   ]
  }
 ],
 "metadata": {
  "kernelspec": {
   "display_name": "Python 3",
   "language": "python",
   "name": "python3"
  },
  "language_info": {
   "codemirror_mode": {
    "name": "ipython",
    "version": 3
   },
   "file_extension": ".py",
   "mimetype": "text/x-python",
   "name": "python",
   "nbconvert_exporter": "python",
   "pygments_lexer": "ipython3",
   "version": "3.8.8"
  }
 },
 "nbformat": 4,
 "nbformat_minor": 5
}
