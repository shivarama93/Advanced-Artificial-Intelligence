{
 "cells": [
  {
   "cell_type": "code",
   "execution_count": null,
   "id": "bd46c754",
   "metadata": {},
   "outputs": [],
   "source": [
    "import numpy as np\n",
    "from sklearn import linear_model\n",
    "import matplotlib.pyplot as plt"
   ]
  },
  {
   "cell_type": "code",
   "execution_count": null,
   "id": "3d7de327",
   "metadata": {},
   "outputs": [],
   "source": [
    "area = [[2600.0], [3000.0], [3200.0], [3600.0], [4000.0]]\n",
    "prices = [[550000.0], [565000.0], [610000.0], [680000.0], [725000.0]]"
   ]
  },
  {
   "cell_type": "code",
   "execution_count": null,
   "id": "1f77034b",
   "metadata": {},
   "outputs": [],
   "source": [
    "plt.xlabel('area')\n",
    "plt.ylabel('price')\n",
    "plt.scatter(area,prices,color='red',marker='+')"
   ]
  },
  {
   "cell_type": "code",
   "execution_count": null,
   "id": "c9642aac",
   "metadata": {},
   "outputs": [],
   "source": [
    "reg = linear_model.LinearRegression()"
   ]
  },
  {
   "cell_type": "code",
   "execution_count": null,
   "id": "0782af59",
   "metadata": {},
   "outputs": [],
   "source": [
    "reg.fit(area, prices)"
   ]
  },
  {
   "cell_type": "code",
   "execution_count": null,
   "id": "81c54742",
   "metadata": {},
   "outputs": [],
   "source": [
    "reg.predict([[3300.0]])"
   ]
  },
  {
   "cell_type": "code",
   "execution_count": null,
   "id": "a5b261e9",
   "metadata": {},
   "outputs": [],
   "source": [
    "reg.coef_"
   ]
  },
  {
   "cell_type": "code",
   "execution_count": null,
   "id": "0c4d1bda",
   "metadata": {},
   "outputs": [],
   "source": [
    "reg.intercept_"
   ]
  },
  {
   "cell_type": "code",
   "execution_count": null,
   "id": "a6b2b715",
   "metadata": {},
   "outputs": [],
   "source": [
    "135.78767123*3300.0 + 180616.43835616"
   ]
  },
  {
   "cell_type": "code",
   "execution_count": null,
   "id": "0f9ed4ef",
   "metadata": {},
   "outputs": [],
   "source": [
    "plt.xlabel('area')\n",
    "plt.ylabel('price')\n",
    "plt.plot(area, prices, '+', color='red')\n",
    "plt.plot(area, reg.predict(area))"
   ]
  },
  {
   "cell_type": "code",
   "execution_count": null,
   "id": "ac8ec0c5",
   "metadata": {},
   "outputs": [],
   "source": []
  }
 ],
 "metadata": {
  "kernelspec": {
   "display_name": "Python 3",
   "language": "python",
   "name": "python3"
  },
  "language_info": {
   "codemirror_mode": {
    "name": "ipython",
    "version": 3
   },
   "file_extension": ".py",
   "mimetype": "text/x-python",
   "name": "python",
   "nbconvert_exporter": "python",
   "pygments_lexer": "ipython3",
   "version": "3.8.8"
  }
 },
 "nbformat": 4,
 "nbformat_minor": 5
}
