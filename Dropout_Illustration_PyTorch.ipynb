{
 "cells": [
  {
   "cell_type": "code",
   "execution_count": 73,
   "metadata": {},
   "outputs": [],
   "source": [
    "import pandas as pd\n",
    "import matplotlib.pyplot as plt\n",
    "from sklearn.model_selection import train_test_split\n",
    "import numpy as np\n",
    "import math\n",
    "import torch\n",
    "import torchvision\n",
    "from torch.utils.data import DataLoader\n",
    "from torch.utils.data import Dataset\n",
    "from sklearn.metrics import confusion_matrix, classification_report\n",
    "import seaborn as sn\n",
    "import matplotlib.pyplot as plt"
   ]
  },
  {
   "cell_type": "code",
   "execution_count": 74,
   "metadata": {},
   "outputs": [],
   "source": [
    "# http://archive.ics.uci.edu/ml/datasets/connectionist+bench+(sonar,+mines+vs.+rocks)\n",
    "# Connectionist bench sonar, mines vs rocks dataset\n",
    "df = pd.read_csv('sonar_dataset.csv', header=None)"
   ]
  },
  {
   "cell_type": "code",
   "execution_count": 75,
   "metadata": {},
   "outputs": [],
   "source": [
    "x = df.drop(60, axis='columns')\n",
    "y = df[60]"
   ]
  },
  {
   "cell_type": "code",
   "execution_count": 76,
   "metadata": {},
   "outputs": [],
   "source": [
    "y = pd.get_dummies(y, drop_first=True)"
   ]
  },
  {
   "cell_type": "code",
   "execution_count": 77,
   "metadata": {},
   "outputs": [],
   "source": [
    "x_train, x_test, y_train, y_test = train_test_split(x, y, test_size=0.25, random_state=1)"
   ]
  },
  {
   "cell_type": "code",
   "execution_count": 78,
   "metadata": {},
   "outputs": [],
   "source": [
    "class TrainDataset(Dataset):\n",
    "    def __init__(self):\n",
    "        self.x = torch.tensor(x_train.values, dtype=torch.float32)\n",
    "        self.y = torch.tensor(y_train.values, dtype=torch.float32)\n",
    "        \n",
    "    def __len__(self):\n",
    "        return len(self.x)\n",
    "    \n",
    "    def __getitem__(self, idx):\n",
    "        return self.x[idx], self.y[idx]"
   ]
  },
  {
   "cell_type": "code",
   "execution_count": 79,
   "metadata": {},
   "outputs": [],
   "source": [
    "traindataset = TrainDataset()\n",
    "dataloader_train = DataLoader(traindataset,\n",
    "                       batch_size=8,\n",
    "                       shuffle=True,\n",
    "                       num_workers=0,\n",
    "                       drop_last=False,\n",
    "                       pin_memory=True)"
   ]
  },
  {
   "cell_type": "code",
   "execution_count": 80,
   "metadata": {},
   "outputs": [],
   "source": [
    "class Rock_Classifier(torch.nn.Module):\n",
    "    def __init__(self):\n",
    "        super(Rock_Classifier, self).__init__()\n",
    "        self.layer1 = torch.nn.Linear(60, 30)\n",
    "        self.layer2 = torch.nn.Linear(30, 15)\n",
    "        self.layer3 = torch.nn.Linear(15, 1)\n",
    "        self.sigmoid = torch.nn.Sigmoid()\n",
    "        self.relu = torch.nn.ReLU()\n",
    "        \n",
    "    def forward(self, x):\n",
    "        out = self.relu(self.layer1(x))\n",
    "        out = self.relu(self.layer2(out))\n",
    "        out = self.sigmoid(self.layer3(out))\n",
    "        return out"
   ]
  },
  {
   "cell_type": "code",
   "execution_count": 81,
   "metadata": {},
   "outputs": [],
   "source": [
    "rock_classifier = Rock_Classifier()"
   ]
  },
  {
   "cell_type": "code",
   "execution_count": 82,
   "metadata": {},
   "outputs": [],
   "source": [
    "optimizer = torch.optim.Adam(rock_classifier.parameters(), lr=0.008, betas=(0.9, 0.99))"
   ]
  },
  {
   "cell_type": "code",
   "execution_count": 83,
   "metadata": {},
   "outputs": [],
   "source": [
    "loss_function = torch.nn.BCELoss()"
   ]
  },
  {
   "cell_type": "code",
   "execution_count": 84,
   "metadata": {},
   "outputs": [
    {
     "name": "stdout",
     "output_type": "stream",
     "text": [
      "Average loss: 0.089310938731218\n",
      "Average loss: 0.05475617200136185\n",
      "Average loss: 0.054072072013066366\n",
      "Average loss: 0.043147880249680616\n",
      "Average loss: 0.041364311742094845\n",
      "Average loss: 0.033809553067653604\n",
      "Average loss: 0.02624896107814633\n",
      "Average loss: 0.027095768672342483\n",
      "Average loss: 0.022612753467491038\n",
      "Average loss: 0.03879815836150486\n",
      "Average loss: 0.01899084822537425\n",
      "Average loss: 0.011296203185338527\n",
      "Average loss: 0.03382083300190667\n",
      "Average loss: 0.026179155728851374\n",
      "Average loss: 0.006058056185466763\n",
      "Average loss: 0.008043689120453425\n",
      "Average loss: 0.004642979006558352\n",
      "Average loss: 0.002335999028545279\n",
      "Average loss: 0.019397578273081962\n",
      "Average loss: 0.0021140544567853606\n",
      "Average loss: 0.0014364713154300728\n",
      "Average loss: 0.0012370735930744559\n",
      "Average loss: 0.001209974577180289\n",
      "Average loss: 0.043339985709444126\n",
      "Average loss: 0.0021441651210923926\n",
      "Average loss: 0.0008903969375797971\n",
      "Average loss: 0.0007545767279318683\n",
      "Average loss: 0.0009176396958700467\n",
      "Average loss: 0.005502954847683073\n",
      "Average loss: 0.0007229602571244006\n",
      "Average loss: 0.0006170134805030942\n",
      "Average loss: 0.0005543335255308007\n",
      "Average loss: 0.0004949970890988763\n",
      "Average loss: 0.00040065951249674143\n",
      "Average loss: 0.03351000528432334\n",
      "Average loss: 0.005073445663627423\n",
      "Average loss: 0.00037355350153015583\n",
      "Average loss: 0.0003087331067527033\n",
      "Average loss: 0.0002844986798920264\n",
      "Average loss: 0.00025707947621720576\n"
     ]
    }
   ],
   "source": [
    "for epoch in range(200):\n",
    "    total_loss = 0.0\n",
    "    for idx, (x1, y1) in enumerate(dataloader_train):\n",
    "        optimizer.zero_grad()\n",
    "        pred = rock_classifier(x1)\n",
    "        lossval = loss_function(pred, y1)\n",
    "        lossval.backward(retain_graph=True)\n",
    "        optimizer.step()\n",
    "        \n",
    "        total_loss += lossval.item()\n",
    "    average_loss = total_loss / traindataset.__len__()\n",
    "    if epoch % 5 == 0:\n",
    "        print(\"Average loss: {}\".format(average_loss))"
   ]
  },
  {
   "cell_type": "code",
   "execution_count": 85,
   "metadata": {},
   "outputs": [],
   "source": [
    "class TestDataset(Dataset):\n",
    "    def __init__(self):\n",
    "        self.x = torch.tensor(x_test.values, dtype=torch.float32)\n",
    "        self.y = torch.tensor(y_test.values, dtype=torch.float32)\n",
    "        \n",
    "    def __len__(self):\n",
    "        return len(self.x)\n",
    "    \n",
    "    def __getitem__(self, idx):\n",
    "        return self.x[idx], self.y[idx]"
   ]
  },
  {
   "cell_type": "code",
   "execution_count": 86,
   "metadata": {},
   "outputs": [],
   "source": [
    "testdataset = TestDataset()\n",
    "dataloader_test = DataLoader(testdataset,\n",
    "                       batch_size=1,\n",
    "                       shuffle=True,\n",
    "                       num_workers=0,\n",
    "                       drop_last=False,\n",
    "                       pin_memory=True)"
   ]
  },
  {
   "cell_type": "code",
   "execution_count": 87,
   "metadata": {},
   "outputs": [],
   "source": [
    "rock_classifier = rock_classifier.cpu()\n",
    "rock_classifier.eval()\n",
    "\n",
    "y_test_true = []\n",
    "y_test_pred = []\n",
    "for idx, (x1, y1) in enumerate(dataloader_test):\n",
    "    y_test_true.append(y1.numpy()[0][0])\n",
    "    pred = rock_classifier(x1)\n",
    "    pred_val = np.round(pred.detach().numpy()[0][0])\n",
    "    y_test_pred.append(pred_val)"
   ]
  },
  {
   "cell_type": "code",
   "execution_count": 88,
   "metadata": {},
   "outputs": [],
   "source": [
    "dataloader_train_2 = DataLoader(traindataset, batch_size=1, shuffle=True, num_workers=0, drop_last=False, pin_memory=True)\n",
    "\n",
    "y_train_true = []\n",
    "y_train_pred = []\n",
    "for idx, (x1, y1) in enumerate(dataloader_train_2):\n",
    "    y_train_true.append(y1.numpy()[0][0])\n",
    "    pred = rock_classifier(x1)\n",
    "    pred_val = np.round(pred.detach().numpy()[0][0])\n",
    "    y_train_pred.append(pred_val)"
   ]
  },
  {
   "cell_type": "code",
   "execution_count": 89,
   "metadata": {},
   "outputs": [
    {
     "name": "stdout",
     "output_type": "stream",
     "text": [
      "              precision    recall  f1-score   support\n",
      "\n",
      "         0.0       1.00      1.00      1.00        84\n",
      "         1.0       1.00      1.00      1.00        72\n",
      "\n",
      "    accuracy                           1.00       156\n",
      "   macro avg       1.00      1.00      1.00       156\n",
      "weighted avg       1.00      1.00      1.00       156\n",
      "\n"
     ]
    }
   ],
   "source": [
    "print(classification_report(y_train_true, y_train_pred))"
   ]
  },
  {
   "cell_type": "code",
   "execution_count": 90,
   "metadata": {},
   "outputs": [
    {
     "name": "stdout",
     "output_type": "stream",
     "text": [
      "              precision    recall  f1-score   support\n",
      "\n",
      "         0.0       0.71      0.89      0.79        27\n",
      "         1.0       0.83      0.60      0.70        25\n",
      "\n",
      "    accuracy                           0.75        52\n",
      "   macro avg       0.77      0.74      0.74        52\n",
      "weighted avg       0.77      0.75      0.74        52\n",
      "\n"
     ]
    }
   ],
   "source": [
    "print(classification_report(y_test_true, y_test_pred))"
   ]
  }
 ],
 "metadata": {
  "kernelspec": {
   "display_name": "Python 3",
   "language": "python",
   "name": "python3"
  },
  "language_info": {
   "codemirror_mode": {
    "name": "ipython",
    "version": 3
   },
   "file_extension": ".py",
   "mimetype": "text/x-python",
   "name": "python",
   "nbconvert_exporter": "python",
   "pygments_lexer": "ipython3",
   "version": "3.8.5"
  }
 },
 "nbformat": 4,
 "nbformat_minor": 4
}
