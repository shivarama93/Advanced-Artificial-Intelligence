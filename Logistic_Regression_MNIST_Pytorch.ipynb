{
 "cells": [
  {
   "cell_type": "code",
   "execution_count": null,
   "metadata": {},
   "outputs": [],
   "source": [
    "import torch\n",
    "import torchvision\n",
    "from torch.utils.data import DataLoader\n",
    "from torch.utils.data import Dataset"
   ]
  },
  {
   "cell_type": "code",
   "execution_count": null,
   "metadata": {},
   "outputs": [],
   "source": [
    "train_dataset = torchvision.datasets.MNIST(root = '.',\n",
    "                                          download=True,\n",
    "                                          train=True,\n",
    "                                          transform=torchvision.transforms.ToTensor())"
   ]
  },
  {
   "cell_type": "code",
   "execution_count": null,
   "metadata": {},
   "outputs": [],
   "source": [
    "dataloader = DataLoader(train_dataset,\n",
    "                       batch_size=16,\n",
    "                       shuffle=True,\n",
    "                       num_workers=0,\n",
    "                       drop_last=False,\n",
    "                       pin_memory=True)"
   ]
  },
  {
   "cell_type": "code",
   "execution_count": null,
   "metadata": {},
   "outputs": [],
   "source": [
    "class LogisticReg(torch.nn.Module):\n",
    "    def __init__(self):\n",
    "        super(LogisticReg, self).__init__()\n",
    "        self.layer1 = torch.nn.Linear(28*28, 1500)\n",
    "        ##ADD HIDDEN LAYERS HERE#######\n",
    "        self.act = torch.nn.Sigmoid()\n",
    "        \n",
    "    def forward(self, x):\n",
    "        ##MODIFY THIS FUNCTION ACCORDING TO THE HIDDEN LAYER DEFINITIONS###\n",
    "        return self.act(self.layer1(x))"
   ]
  },
  {
   "cell_type": "code",
   "execution_count": null,
   "metadata": {},
   "outputs": [],
   "source": [
    "Logistic_reg = LogisticReg()"
   ]
  },
  {
   "cell_type": "code",
   "execution_count": null,
   "metadata": {},
   "outputs": [],
   "source": [
    "optimizer = torch.optim.Adam(Logistic_reg.parameters(), lr=0.008, betas=(0.9, 0.99))"
   ]
  },
  {
   "cell_type": "code",
   "execution_count": null,
   "metadata": {},
   "outputs": [],
   "source": [
    "loss_function = torch.nn.CrossEntropyLoss()"
   ]
  },
  {
   "cell_type": "code",
   "execution_count": null,
   "metadata": {
    "scrolled": true
   },
   "outputs": [],
   "source": [
    "for epoch in range(100):\n",
    "    for idx, (x1, y1) in enumerate(dataloader):\n",
    "        x1 = x1.to('cuda')\n",
    "        y1 = y1.to('cuda')\n",
    "        optimizer.zero_grad()\n",
    "        pred = Logistic_reg(x1.view(16, -1))\n",
    "        lossval = loss_function(pred, y1)\n",
    "        lossval.backward(retain_graph=True)\n",
    "        optimizer.step()\n",
    "        \n",
    "    if epoch % 10 == 0:\n",
    "        print(\"Loss: {}\".format(lossval.item()))"
   ]
  },
  {
   "cell_type": "code",
   "execution_count": null,
   "metadata": {},
   "outputs": [],
   "source": [
    "###To load the pretrained model\n",
    "# log_reg = LogisticReg()\n",
    "# log_reg.load_state_dict(torch.load('logistic_reg_2.pth'), strict=True)"
   ]
  },
  {
   "cell_type": "code",
   "execution_count": null,
   "metadata": {},
   "outputs": [],
   "source": [
    "test_dataset = torchvision.datasets.MNIST(root = '.',\n",
    "                                          download=True,\n",
    "                                          train=False,\n",
    "                                          transform=torchvision.transforms.ToTensor())\n",
    "\n",
    "dataloader_test = DataLoader(test_dataset,\n",
    "                       batch_size=1,\n",
    "                       shuffle=False,\n",
    "                       num_workers=0,\n",
    "                       drop_last=False,\n",
    "                       pin_memory=True)"
   ]
  },
  {
   "cell_type": "code",
   "execution_count": null,
   "metadata": {},
   "outputs": [],
   "source": [
    "log_reg = log_reg.cpu()\n",
    "log_reg.eval()\n",
    "y_true = []\n",
    "y_pred = []\n",
    "for idx, (x1, y1) in enumerate(dataloader_test):\n",
    "    y_true.append(y1.numpy())\n",
    "    pred = log_reg(x1.view(1,-1))\n",
    "    _, pred_val = torch.max(pred, 1)\n",
    "    y_pred.append(pred_val.detach().numpy())"
   ]
  },
  {
   "cell_type": "code",
   "execution_count": null,
   "metadata": {},
   "outputs": [],
   "source": [
    "#To save the trained model as .pth file\n",
    "state_dict = Logistic_reg.state_dict()\n",
    "for key, param in state_dict.items():\n",
    "    state_dict[key] = param.cpu()\n",
    "torch.save(state_dict, 'logistic_reg.pth')"
   ]
  },
  {
   "cell_type": "code",
   "execution_count": null,
   "metadata": {},
   "outputs": [],
   "source": [
    "torchvision.transforms.ToPILImage()(x1[0]).show()"
   ]
  },
  {
   "cell_type": "code",
   "execution_count": null,
   "metadata": {},
   "outputs": [],
   "source": [
    "pred"
   ]
  },
  {
   "cell_type": "code",
   "execution_count": null,
   "metadata": {},
   "outputs": [],
   "source": [
    "from sklearn.metrics import confusion_matrix, classification_report\n",
    "import seaborn as sn\n",
    "import matplotlib.pyplot as plt"
   ]
  },
  {
   "cell_type": "code",
   "execution_count": null,
   "metadata": {},
   "outputs": [],
   "source": [
    "con_mat = confusion_matrix(y_true,y_pred)\n",
    "plt.figure(figsize = (10,7))\n",
    "sn.heatmap(con_mat, annot=True, fmt='d')\n",
    "plt.xlabel('Predicted')\n",
    "plt.ylabel('Truth')"
   ]
  }
 ],
 "metadata": {
  "kernelspec": {
   "display_name": "Python 3",
   "language": "python",
   "name": "python3"
  },
  "language_info": {
   "codemirror_mode": {
    "name": "ipython",
    "version": 3
   },
   "file_extension": ".py",
   "mimetype": "text/x-python",
   "name": "python",
   "nbconvert_exporter": "python",
   "pygments_lexer": "ipython3",
   "version": "3.8.5"
  }
 },
 "nbformat": 4,
 "nbformat_minor": 4
}
