{
 "cells": [
  {
   "cell_type": "code",
   "execution_count": 1,
   "id": "2789073c",
   "metadata": {},
   "outputs": [],
   "source": [
    "import torch\n",
    "import torchvision\n",
    "from torch.utils.data import DataLoader\n",
    "import matplotlib.pyplot as plt"
   ]
  },
  {
   "cell_type": "code",
   "execution_count": 2,
   "id": "2465c2e1",
   "metadata": {},
   "outputs": [
    {
     "data": {
      "text/plain": [
       "'1.10.0+cpu'"
      ]
     },
     "execution_count": 2,
     "metadata": {},
     "output_type": "execute_result"
    }
   ],
   "source": [
    "torch.__version__"
   ]
  },
  {
   "cell_type": "code",
   "execution_count": 3,
   "id": "76fe2f4f",
   "metadata": {},
   "outputs": [],
   "source": [
    "train_dataset = torchvision.datasets.MNIST(root='.', \n",
    "                                     download=True,\n",
    "                                     train=True,\n",
    "                                     transform=torchvision.transforms.ToTensor(),\n",
    "                                          )\n",
    "\n",
    "test_dataset = torchvision.datasets.MNIST(root='.', \n",
    "                                     download=True,\n",
    "                                     train=False,\n",
    "                                     transform=torchvision.transforms.ToTensor())"
   ]
  },
  {
   "cell_type": "code",
   "execution_count": 4,
   "id": "173573ea",
   "metadata": {},
   "outputs": [],
   "source": [
    "dataloader = DataLoader(train_dataset, batch_size=1, shuffle=True, num_workers=0, drop_last=False, pin_memory=True)"
   ]
  },
  {
   "cell_type": "code",
   "execution_count": 5,
   "id": "04f55588",
   "metadata": {},
   "outputs": [],
   "source": [
    "x1 = []\n",
    "y1 = []\n",
    "for idx, (x, y) in enumerate(dataloader):\n",
    "    if idx == 2:\n",
    "        break\n",
    "    x1.append(x)\n",
    "    y1.append(y)"
   ]
  },
  {
   "cell_type": "code",
   "execution_count": 6,
   "id": "bbdce3cd",
   "metadata": {},
   "outputs": [
    {
     "data": {
      "text/plain": [
       "torch.Size([1, 1, 28, 28])"
      ]
     },
     "execution_count": 6,
     "metadata": {},
     "output_type": "execute_result"
    }
   ],
   "source": [
    "x1[0].shape"
   ]
  },
  {
   "cell_type": "code",
   "execution_count": 7,
   "id": "e0526566",
   "metadata": {},
   "outputs": [
    {
     "data": {
      "text/plain": [
       "[tensor([7]), tensor([8])]"
      ]
     },
     "execution_count": 7,
     "metadata": {},
     "output_type": "execute_result"
    }
   ],
   "source": [
    "y1"
   ]
  },
  {
   "cell_type": "code",
   "execution_count": 9,
   "id": "19880de1",
   "metadata": {},
   "outputs": [],
   "source": [
    "img = torchvision.transforms.ToPILImage()(x1[1][0])\n",
    "img.show()"
   ]
  },
  {
   "cell_type": "code",
   "execution_count": null,
   "id": "27a6e02a",
   "metadata": {},
   "outputs": [],
   "source": []
  }
 ],
 "metadata": {
  "kernelspec": {
   "display_name": "Python 3",
   "language": "python",
   "name": "python3"
  },
  "language_info": {
   "codemirror_mode": {
    "name": "ipython",
    "version": 3
   },
   "file_extension": ".py",
   "mimetype": "text/x-python",
   "name": "python",
   "nbconvert_exporter": "python",
   "pygments_lexer": "ipython3",
   "version": "3.8.8"
  }
 },
 "nbformat": 4,
 "nbformat_minor": 5
}
