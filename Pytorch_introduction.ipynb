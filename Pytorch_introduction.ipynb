{
 "cells": [
  {
   "cell_type": "code",
   "execution_count": null,
   "id": "2789073c",
   "metadata": {},
   "outputs": [],
   "source": [
    "import torch\n",
    "import torchvision\n",
    "from torch.utils.data import DataLoader\n",
    "from torch.utils.data import Dataset\n",
    "import matplotlib.pyplot as plt"
   ]
  },
  {
   "cell_type": "code",
   "execution_count": null,
   "id": "2465c2e1",
   "metadata": {},
   "outputs": [],
   "source": [
    "torch.__version__"
   ]
  },
  {
   "cell_type": "code",
   "execution_count": null,
   "id": "76fe2f4f",
   "metadata": {},
   "outputs": [],
   "source": [
    "train_dataset = torchvision.datasets.MNIST(root='.', \n",
    "                                     download=True,\n",
    "                                     train=True,\n",
    "                                     transform=torchvision.transforms.ToTensor(),\n",
    "                                          )\n",
    "\n",
    "test_dataset = torchvision.datasets.MNIST(root='.', \n",
    "                                     download=True,\n",
    "                                     train=False,\n",
    "                                     transform=torchvision.transforms.ToTensor())"
   ]
  },
  {
   "cell_type": "code",
   "execution_count": null,
   "id": "173573ea",
   "metadata": {},
   "outputs": [],
   "source": [
    "dataloader = DataLoader(train_dataset, batch_size=1, shuffle=True, num_workers=0, drop_last=False, pin_memory=True)"
   ]
  },
  {
   "cell_type": "code",
   "execution_count": null,
   "id": "04f55588",
   "metadata": {},
   "outputs": [],
   "source": [
    "x1 = []\n",
    "y1 = []\n",
    "for idx, (x, y) in enumerate(dataloader):\n",
    "    if idx == 2:\n",
    "        break\n",
    "    x1.append(x)\n",
    "    y1.append(y)"
   ]
  },
  {
   "cell_type": "code",
   "execution_count": null,
   "id": "bbdce3cd",
   "metadata": {},
   "outputs": [],
   "source": [
    "x1[0].shape"
   ]
  },
  {
   "cell_type": "code",
   "execution_count": null,
   "id": "e0526566",
   "metadata": {},
   "outputs": [],
   "source": [
    "y1"
   ]
  },
  {
   "cell_type": "code",
   "execution_count": null,
   "id": "19880de1",
   "metadata": {},
   "outputs": [],
   "source": [
    "img = torchvision.transforms.ToPILImage()(x1[1][0])\n",
    "img.show()"
   ]
  },
  {
   "cell_type": "code",
   "execution_count": null,
   "id": "27a6e02a",
   "metadata": {},
   "outputs": [],
   "source": [
    "class CustomDataset(Dataset):\n",
    "    def __init__(self):\n",
    "       \n",
    "        self.x = [[2600.0], [3000.0], [3200.0], [3600.0], [4000.0]]\n",
    "        self.y = [[550000.0], [565000.0], [610000.0], [680000.0], [725000.0]]\n",
    "       \n",
    "\n",
    "    def __len__(self):\n",
    "        return len(self.x)\n",
    "\n",
    "    def __getitem__(self, idx):\n",
    "        \n",
    "        return self.x[idx], self.y[idx]"
   ]
  },
  {
   "cell_type": "code",
   "execution_count": null,
   "id": "a7bb61b2",
   "metadata": {},
   "outputs": [],
   "source": [
    "customdataset = CustomDataset()\n",
    "dataloader_custom = DataLoader(customdataset, batch_size=1, shuffle=True, num_workers=0, drop_last=False, pin_memory=True)"
   ]
  },
  {
   "cell_type": "code",
   "execution_count": null,
   "id": "b09a89b8",
   "metadata": {},
   "outputs": [],
   "source": [
    "x1 = []\n",
    "y1 = []\n",
    "for idx, (x, y) in enumerate(dataloader_custom):\n",
    "    if idx == 2:\n",
    "        break\n",
    "    x1.append(x)\n",
    "    y1.append(y)"
   ]
  },
  {
   "cell_type": "code",
   "execution_count": null,
   "id": "3cb3e2b9",
   "metadata": {},
   "outputs": [],
   "source": [
    "x1"
   ]
  }
 ],
 "metadata": {
  "kernelspec": {
   "display_name": "Python 3",
   "language": "python",
   "name": "python3"
  },
  "language_info": {
   "codemirror_mode": {
    "name": "ipython",
    "version": 3
   },
   "file_extension": ".py",
   "mimetype": "text/x-python",
   "name": "python",
   "nbconvert_exporter": "python",
   "pygments_lexer": "ipython3",
   "version": "3.8.8"
  }
 },
 "nbformat": 4,
 "nbformat_minor": 5
}
