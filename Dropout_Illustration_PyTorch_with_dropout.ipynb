{
 "cells": [
  {
   "cell_type": "code",
   "execution_count": null,
   "metadata": {},
   "outputs": [],
   "source": [
    "import pandas as pd\n",
    "import matplotlib.pyplot as plt\n",
    "from sklearn.model_selection import train_test_split\n",
    "import numpy as np\n",
    "import math\n",
    "import torch\n",
    "import torchvision\n",
    "from torch.utils.data import DataLoader\n",
    "from torch.utils.data import Dataset\n",
    "from sklearn.metrics import confusion_matrix, classification_report\n",
    "import seaborn as sn\n",
    "import matplotlib.pyplot as plt"
   ]
  },
  {
   "cell_type": "code",
   "execution_count": null,
   "metadata": {},
   "outputs": [],
   "source": [
    "df = pd.read_csv('sonar_dataset.csv', header=None)"
   ]
  },
  {
   "cell_type": "code",
   "execution_count": null,
   "metadata": {},
   "outputs": [],
   "source": [
    "x = df.drop(60, axis='columns')\n",
    "y = df[60]"
   ]
  },
  {
   "cell_type": "code",
   "execution_count": null,
   "metadata": {},
   "outputs": [],
   "source": [
    "y = pd.get_dummies(y, drop_first=True)"
   ]
  },
  {
   "cell_type": "code",
   "execution_count": null,
   "metadata": {},
   "outputs": [],
   "source": [
    "x_train, x_test, y_train, y_test = train_test_split(x, y, test_size=0.25, random_state=1)"
   ]
  },
  {
   "cell_type": "code",
   "execution_count": null,
   "metadata": {},
   "outputs": [],
   "source": [
    "class TrainDataset(Dataset):\n",
    "    def __init__(self):\n",
    "        self.x = torch.tensor(x_train.values, dtype=torch.float32)\n",
    "        self.y = torch.tensor(y_train.values, dtype=torch.float32)\n",
    "        \n",
    "    def __len__(self):\n",
    "        return len(self.x)\n",
    "    \n",
    "    def __getitem__(self, idx):\n",
    "        return self.x[idx], self.y[idx]"
   ]
  },
  {
   "cell_type": "code",
   "execution_count": null,
   "metadata": {},
   "outputs": [],
   "source": [
    "traindataset = TrainDataset()\n",
    "dataloader_train = DataLoader(traindataset,\n",
    "                       batch_size=8,\n",
    "                       shuffle=True,\n",
    "                       num_workers=0,\n",
    "                       drop_last=False,\n",
    "                       pin_memory=True)"
   ]
  },
  {
   "cell_type": "code",
   "execution_count": null,
   "metadata": {},
   "outputs": [],
   "source": [
    "class Rock_Classifier(torch.nn.Module):\n",
    "    def __init__(self):\n",
    "        super(Rock_Classifier, self).__init__()\n",
    "        self.layer1 = torch.nn.Linear(60, 30)\n",
    "        self.layer2 = torch.nn.Linear(30, 15)\n",
    "        self.layer3 = torch.nn.Linear(15, 1)\n",
    "        self.dropout = torch.nn.Dropout(0.2, inplace=True)\n",
    "        self.sigmoid = torch.nn.Sigmoid()\n",
    "        self.relu = torch.nn.ReLU()\n",
    "        \n",
    "    def forward(self, x):\n",
    "        out = self.relu(self.dropout(self.layer1(x)))\n",
    "        out = self.relu(self.dropout(self.layer2(out)))\n",
    "        out = self.sigmoid(self.dropout(self.layer3(out)))\n",
    "        return out"
   ]
  },
  {
   "cell_type": "code",
   "execution_count": null,
   "metadata": {},
   "outputs": [],
   "source": [
    "rock_classifier = Rock_Classifier()"
   ]
  },
  {
   "cell_type": "code",
   "execution_count": null,
   "metadata": {},
   "outputs": [],
   "source": [
    "optimizer = torch.optim.Adam(rock_classifier.parameters(), lr=0.008, betas=(0.9, 0.99))#, weight_decay=0.001)"
   ]
  },
  {
   "cell_type": "code",
   "execution_count": null,
   "metadata": {},
   "outputs": [],
   "source": [
    "loss_function = torch.nn.BCELoss()"
   ]
  },
  {
   "cell_type": "code",
   "execution_count": null,
   "metadata": {},
   "outputs": [],
   "source": [
    "# l2_lambda = 0.01\n",
    "for epoch in range(200):\n",
    "    total_loss = 0.0\n",
    "    for idx, (x1, y1) in enumerate(dataloader_train):\n",
    "        optimizer.zero_grad()\n",
    "        pred = rock_classifier(x1)\n",
    "#         l2_norm = sum(abs(p).sum() for p in rock_classifier.parameters())\n",
    "        lossval = loss_function(pred, y1)\n",
    "#         lossval = lossval + l2_lambda * l2_norm\n",
    "        lossval.backward(retain_graph=True)\n",
    "        optimizer.step()\n",
    "        \n",
    "        total_loss += lossval.item()\n",
    "    average_loss = total_loss / traindataset.__len__()\n",
    "    if epoch % 5 == 0:\n",
    "        print(\"Average loss: {}\".format(average_loss))"
   ]
  },
  {
   "cell_type": "code",
   "execution_count": null,
   "metadata": {},
   "outputs": [],
   "source": [
    "class TestDataset(Dataset):\n",
    "    def __init__(self):\n",
    "        self.x = torch.tensor(x_test.values, dtype=torch.float32)\n",
    "        self.y = torch.tensor(y_test.values, dtype=torch.float32)\n",
    "        \n",
    "    def __len__(self):\n",
    "        return len(self.x)\n",
    "    \n",
    "    def __getitem__(self, idx):\n",
    "        return self.x[idx], self.y[idx]"
   ]
  },
  {
   "cell_type": "code",
   "execution_count": null,
   "metadata": {},
   "outputs": [],
   "source": [
    "testdataset = TestDataset()\n",
    "dataloader_test = DataLoader(testdataset,\n",
    "                       batch_size=1,\n",
    "                       shuffle=True,\n",
    "                       num_workers=0,\n",
    "                       drop_last=False,\n",
    "                       pin_memory=True)"
   ]
  },
  {
   "cell_type": "code",
   "execution_count": null,
   "metadata": {},
   "outputs": [],
   "source": [
    "rock_classifier = rock_classifier.cpu()\n",
    "rock_classifier.eval()\n",
    "\n",
    "y_test_true = []\n",
    "y_test_pred = []\n",
    "for idx, (x1, y1) in enumerate(dataloader_test):\n",
    "    y_test_true.append(y1.numpy()[0][0])\n",
    "    pred = rock_classifier(x1)\n",
    "    pred_val = np.round(pred.detach().numpy()[0][0])\n",
    "    y_test_pred.append(pred_val)"
   ]
  },
  {
   "cell_type": "code",
   "execution_count": null,
   "metadata": {},
   "outputs": [],
   "source": [
    "dataloader_train_2 = DataLoader(traindataset, batch_size=1, shuffle=True, num_workers=0, drop_last=False, pin_memory=True)\n",
    "\n",
    "y_train_true = []\n",
    "y_train_pred = []\n",
    "for idx, (x1, y1) in enumerate(dataloader_train_2):\n",
    "    y_train_true.append(y1.numpy()[0][0])\n",
    "    pred = rock_classifier(x1)\n",
    "    pred_val = np.round(pred.detach().numpy()[0][0])\n",
    "    y_train_pred.append(pred_val)"
   ]
  },
  {
   "cell_type": "code",
   "execution_count": null,
   "metadata": {},
   "outputs": [],
   "source": [
    "print(classification_report(y_train_true, y_train_pred))"
   ]
  },
  {
   "cell_type": "code",
   "execution_count": null,
   "metadata": {},
   "outputs": [],
   "source": [
    "print(classification_report(y_test_true, y_test_pred))"
   ]
  }
 ],
 "metadata": {
  "kernelspec": {
   "display_name": "Python 3",
   "language": "python",
   "name": "python3"
  },
  "language_info": {
   "codemirror_mode": {
    "name": "ipython",
    "version": 3
   },
   "file_extension": ".py",
   "mimetype": "text/x-python",
   "name": "python",
   "nbconvert_exporter": "python",
   "pygments_lexer": "ipython3",
   "version": "3.8.5"
  }
 },
 "nbformat": 4,
 "nbformat_minor": 4
}
